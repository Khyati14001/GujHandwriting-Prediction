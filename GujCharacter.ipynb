{
  "nbformat": 4,
  "nbformat_minor": 0,
  "metadata": {
    "colab": {
      "name": "GujCharacter.ipynb",
      "provenance": [],
      "collapsed_sections": [],
      "toc_visible": true,
      "authorship_tag": "ABX9TyN+V5QM6a1bmsHemhVGjcKP",
      "include_colab_link": true
    },
    "kernelspec": {
      "name": "python3",
      "display_name": "Python 3"
    },
    "language_info": {
      "name": "python"
    }
  },
  "cells": [
    {
      "cell_type": "markdown",
      "metadata": {
        "id": "view-in-github",
        "colab_type": "text"
      },
      "source": [
        "<a href=\"https://colab.research.google.com/github/Khyati14001/GujHandwriting-Prediction/blob/master/GujCharacter.ipynb\" target=\"_parent\"><img src=\"https://colab.research.google.com/assets/colab-badge.svg\" alt=\"Open In Colab\"/></a>"
      ]
    },
    {
      "cell_type": "markdown",
      "metadata": {
        "id": "vjajzZsrziHw"
      },
      "source": [
        "  **GujaratiHandwritten Character Prediction using CNN**\n"
      ]
    },
    {
      "cell_type": "code",
      "metadata": {
        "id": "f0o8dgnDHCyU"
      },
      "source": [
        "import tensorflow as tf\n",
        "import os\n",
        "import matplotlib.pyplot as plt\n",
        "import numpy as np"
      ],
      "execution_count": null,
      "outputs": []
    },
    {
      "cell_type": "code",
      "metadata": {
        "id": "F3rSar-pK8-E"
      },
      "source": [
        "from google.colab import drive"
      ],
      "execution_count": null,
      "outputs": []
    },
    {
      "cell_type": "code",
      "metadata": {
        "id": "xCdTEj9_LA3q",
        "colab": {
          "base_uri": "https://localhost:8080/"
        },
        "outputId": "75c41401-26d6-4d98-842b-d2d7d0963a4a"
      },
      "source": [
        "drive.mount('/content/drive')"
      ],
      "execution_count": null,
      "outputs": [
        {
          "output_type": "stream",
          "text": [
            "Drive already mounted at /content/drive; to attempt to forcibly remount, call drive.mount(\"/content/drive\", force_remount=True).\n"
          ],
          "name": "stdout"
        }
      ]
    },
    {
      "cell_type": "code",
      "metadata": {
        "id": "2VXTjfyoHOPr"
      },
      "source": [
        "from tensorflow.keras.applications import MobileNetV2 ## mobilenetv2 cnn architecture"
      ],
      "execution_count": null,
      "outputs": []
    },
    {
      "cell_type": "code",
      "metadata": {
        "id": "I9eqrNATJjam"
      },
      "source": [
        "pre_trained_model = MobileNetV2(include_top=False, pooling='avg')"
      ],
      "execution_count": null,
      "outputs": []
    },
    {
      "cell_type": "code",
      "metadata": {
        "id": "WnC-YvFHJvkC"
      },
      "source": [
        "pre_trained_model.trainable = False"
      ],
      "execution_count": null,
      "outputs": []
    },
    {
      "cell_type": "code",
      "metadata": {
        "id": "kP8PW-OLKef3"
      },
      "source": [
        "from tensorflow.keras.preprocessing.image import ImageDataGenerator\n",
        "from tensorflow.keras.applications.mobilenet_v2 import preprocess_input"
      ],
      "execution_count": null,
      "outputs": []
    },
    {
      "cell_type": "code",
      "metadata": {
        "colab": {
          "base_uri": "https://localhost:8080/"
        },
        "id": "tU0FkiSyK05Q",
        "outputId": "32b9fa20-0da1-4623-e9d4-8b91453a968d"
      },
      "source": [
        "train_data_location = '/content/drive/MyDrive/Dataset_Sample/training'\n",
        "train_data = ImageDataGenerator(preprocessing_function=preprocess_input).flow_from_directory(train_data_location,target_size=(200,200))"
      ],
      "execution_count": null,
      "outputs": [
        {
          "output_type": "stream",
          "text": [
            "Found 11 images belonging to 7 classes.\n"
          ],
          "name": "stdout"
        }
      ]
    },
    {
      "cell_type": "code",
      "metadata": {
        "id": "6lo_JS4qMCeV"
      },
      "source": [
        "validation_data_location='/content/drive/MyDrive/Dataset_Sample/validation'\n",
        "validation_data = ImageDataGenerator(preprocessing_function=preprocess_input).flow_from_directory(train_data_location,target_size=(200,200))\n"
      ],
      "execution_count": null,
      "outputs": []
    },
    {
      "cell_type": "code",
      "metadata": {
        "colab": {
          "base_uri": "https://localhost:8080/"
        },
        "id": "esMmObiQLoIU",
        "outputId": "41e37cec-1461-4711-d770-3971511c5d07"
      },
      "source": [
        "class_mappings = train_data.class_indices\n",
        "print(class_mappings)"
      ],
      "execution_count": null,
      "outputs": [
        {
          "output_type": "stream",
          "text": [
            "{'.ipynb_checkpoints': 0, '6': 1, 'ek': 2, 'ka': 3, 'kha': 4, 'o': 5, 'sha': 6}\n"
          ],
          "name": "stdout"
        }
      ]
    },
    {
      "cell_type": "markdown",
      "metadata": {
        "id": "QEcQtA5NMhIq"
      },
      "source": [
        "Model\n"
      ]
    },
    {
      "cell_type": "code",
      "metadata": {
        "id": "6uyyw70vMj6F"
      },
      "source": [
        "from tensorflow.keras import Sequential\n",
        "from tensorflow.keras.layers import Dense"
      ],
      "execution_count": null,
      "outputs": []
    },
    {
      "cell_type": "code",
      "metadata": {
        "id": "iCQsCx7gMxt-"
      },
      "source": [
        "## layer 1\n",
        "model = Sequential()\n",
        "model.add(pre_trained_model)\n",
        "model.add(Dense(len(class_mappings),activation='softmax'))\n",
        "\n",
        "## layer2\n",
        "model = Sequential()\n",
        "model.add(pre_trained_model)\n",
        "model.add(Dense(len(class_mappings),activation='softmax'))\n",
        "\n",
        "##layer3\n",
        "model = Sequential()\n",
        "model.add(pre_trained_model)\n",
        "model.add(Dense(len(class_mappings),activation='softmax'))\n",
        "\n"
      ],
      "execution_count": null,
      "outputs": []
    },
    {
      "cell_type": "code",
      "metadata": {
        "colab": {
          "base_uri": "https://localhost:8080/"
        },
        "id": "_tdhn4OLNXd9",
        "outputId": "31140b27-176a-447b-fe61-786f8ff29b35"
      },
      "source": [
        "model.summary()"
      ],
      "execution_count": null,
      "outputs": [
        {
          "output_type": "stream",
          "text": [
            "Model: \"sequential_5\"\n",
            "_________________________________________________________________\n",
            "Layer (type)                 Output Shape              Param #   \n",
            "=================================================================\n",
            "mobilenetv2_1.00_224 (Functi (None, 1280)              2257984   \n",
            "_________________________________________________________________\n",
            "dense_5 (Dense)              (None, 7)                 8967      \n",
            "=================================================================\n",
            "Total params: 2,266,951\n",
            "Trainable params: 8,967\n",
            "Non-trainable params: 2,257,984\n",
            "_________________________________________________________________\n"
          ],
          "name": "stdout"
        }
      ]
    },
    {
      "cell_type": "code",
      "metadata": {
        "id": "kTzHEOIjQ2Kt"
      },
      "source": [
        "model.compile(loss=\"binary_crossentropy\", optimizer=\"adam\", metrics=['accuracy'])"
      ],
      "execution_count": null,
      "outputs": []
    },
    {
      "cell_type": "code",
      "metadata": {
        "colab": {
          "base_uri": "https://localhost:8080/"
        },
        "id": "2L05SaUmQ4Ja",
        "outputId": "9acfb1c1-e776-4513-c49c-2c01dd2ab177"
      },
      "source": [
        "model_fit = model.fit(train_data, epochs= 20, validation_data= validation_data)"
      ],
      "execution_count": null,
      "outputs": [
        {
          "output_type": "stream",
          "text": [
            "Epoch 1/20\n",
            "1/1 [==============================] - 4s 4s/step - loss: 0.7307 - accuracy: 0.0909 - val_loss: 0.5590 - val_accuracy: 0.0909\n",
            "Epoch 2/20\n",
            "1/1 [==============================] - 1s 577ms/step - loss: 0.5590 - accuracy: 0.0909 - val_loss: 0.4593 - val_accuracy: 0.0909\n",
            "Epoch 3/20\n",
            "1/1 [==============================] - 1s 574ms/step - loss: 0.4593 - accuracy: 0.0909 - val_loss: 0.4048 - val_accuracy: 0.2727\n",
            "Epoch 4/20\n",
            "1/1 [==============================] - 1s 571ms/step - loss: 0.4048 - accuracy: 0.2727 - val_loss: 0.3724 - val_accuracy: 0.3636\n",
            "Epoch 5/20\n",
            "1/1 [==============================] - 1s 574ms/step - loss: 0.3724 - accuracy: 0.3636 - val_loss: 0.3482 - val_accuracy: 0.5455\n",
            "Epoch 6/20\n",
            "1/1 [==============================] - 1s 585ms/step - loss: 0.3482 - accuracy: 0.5455 - val_loss: 0.3256 - val_accuracy: 0.6364\n",
            "Epoch 7/20\n",
            "1/1 [==============================] - 1s 586ms/step - loss: 0.3256 - accuracy: 0.6364 - val_loss: 0.3023 - val_accuracy: 0.7273\n",
            "Epoch 8/20\n",
            "1/1 [==============================] - 1s 571ms/step - loss: 0.3023 - accuracy: 0.7273 - val_loss: 0.2782 - val_accuracy: 0.8182\n",
            "Epoch 9/20\n",
            "1/1 [==============================] - 1s 599ms/step - loss: 0.2782 - accuracy: 0.8182 - val_loss: 0.2539 - val_accuracy: 0.8182\n",
            "Epoch 10/20\n",
            "1/1 [==============================] - 1s 576ms/step - loss: 0.2539 - accuracy: 0.8182 - val_loss: 0.2303 - val_accuracy: 0.8182\n",
            "Epoch 11/20\n",
            "1/1 [==============================] - 1s 575ms/step - loss: 0.2303 - accuracy: 0.8182 - val_loss: 0.2082 - val_accuracy: 0.8182\n",
            "Epoch 12/20\n",
            "1/1 [==============================] - 1s 585ms/step - loss: 0.2082 - accuracy: 0.8182 - val_loss: 0.1880 - val_accuracy: 0.9091\n",
            "Epoch 13/20\n",
            "1/1 [==============================] - 1s 570ms/step - loss: 0.1880 - accuracy: 0.9091 - val_loss: 0.1698 - val_accuracy: 0.9091\n",
            "Epoch 14/20\n",
            "1/1 [==============================] - 1s 586ms/step - loss: 0.1698 - accuracy: 0.9091 - val_loss: 0.1537 - val_accuracy: 0.9091\n",
            "Epoch 15/20\n",
            "1/1 [==============================] - 1s 576ms/step - loss: 0.1537 - accuracy: 0.9091 - val_loss: 0.1397 - val_accuracy: 0.9091\n",
            "Epoch 16/20\n",
            "1/1 [==============================] - 1s 555ms/step - loss: 0.1397 - accuracy: 0.9091 - val_loss: 0.1277 - val_accuracy: 0.9091\n",
            "Epoch 17/20\n",
            "1/1 [==============================] - 1s 561ms/step - loss: 0.1277 - accuracy: 0.9091 - val_loss: 0.1174 - val_accuracy: 1.0000\n",
            "Epoch 18/20\n",
            "1/1 [==============================] - 1s 562ms/step - loss: 0.1174 - accuracy: 1.0000 - val_loss: 0.1087 - val_accuracy: 1.0000\n",
            "Epoch 19/20\n",
            "1/1 [==============================] - 1s 561ms/step - loss: 0.1087 - accuracy: 1.0000 - val_loss: 0.1012 - val_accuracy: 1.0000\n",
            "Epoch 20/20\n",
            "1/1 [==============================] - 1s 556ms/step - loss: 0.1012 - accuracy: 1.0000 - val_loss: 0.0945 - val_accuracy: 1.0000\n"
          ],
          "name": "stdout"
        }
      ]
    },
    {
      "cell_type": "markdown",
      "metadata": {
        "id": "1RxbD_4lz0b3"
      },
      "source": [
        "Saving the model "
      ]
    },
    {
      "cell_type": "code",
      "metadata": {
        "colab": {
          "base_uri": "https://localhost:8080/"
        },
        "id": "PSBA9lNUTPQQ",
        "outputId": "777e0ceb-393f-454d-b439-43894a62cd0f"
      },
      "source": [
        "model.save('/content/drive/MyDrive/Dataset_Sample')"
      ],
      "execution_count": null,
      "outputs": [
        {
          "output_type": "stream",
          "text": [
            "WARNING:absl:Function `_wrapped_model` contains input name(s) mobilenetv2_1.00_224_input with unsupported characters which will be renamed to mobilenetv2_1_00_224_input in the SavedModel.\n",
            "/usr/local/lib/python3.7/dist-packages/tensorflow/python/keras/utils/generic_utils.py:497: CustomMaskWarning: Custom mask layers require a config and must override get_config. When loading, the custom mask layer must be passed to the custom_objects argument.\n",
            "  category=CustomMaskWarning)\n"
          ],
          "name": "stderr"
        },
        {
          "output_type": "stream",
          "text": [
            "INFO:tensorflow:Assets written to: /content/drive/MyDrive/Dataset_Sample/assets\n"
          ],
          "name": "stdout"
        },
        {
          "output_type": "stream",
          "text": [
            "INFO:tensorflow:Assets written to: /content/drive/MyDrive/Dataset_Sample/assets\n"
          ],
          "name": "stderr"
        }
      ]
    },
    {
      "cell_type": "code",
      "metadata": {
        "colab": {
          "base_uri": "https://localhost:8080/"
        },
        "id": "TNgtk8zHvdUt",
        "outputId": "bc761100-8dbc-41ff-c801-f1eb09c858fa"
      },
      "source": [
        "model.save('/content/drive/MyDrive/Dataset_Sample.h5')"
      ],
      "execution_count": null,
      "outputs": [
        {
          "output_type": "stream",
          "text": [
            "/usr/local/lib/python3.7/dist-packages/tensorflow/python/keras/utils/generic_utils.py:497: CustomMaskWarning: Custom mask layers require a config and must override get_config. When loading, the custom mask layer must be passed to the custom_objects argument.\n",
            "  category=CustomMaskWarning)\n"
          ],
          "name": "stderr"
        }
      ]
    },
    {
      "cell_type": "markdown",
      "metadata": {
        "id": "65Opvk4uR-5V"
      },
      "source": [
        "Using the model for prediction"
      ]
    },
    {
      "cell_type": "code",
      "metadata": {
        "id": "GMQdxEudPkP-"
      },
      "source": [
        "from tensorflow.keras.models import load_model\n",
        "from tensorflow.keras.preprocessing import image\n",
        "from tensorflow.keras.applications.mobilenet_v2 import preprocess_input\n"
      ],
      "execution_count": null,
      "outputs": []
    },
    {
      "cell_type": "code",
      "metadata": {
        "id": "kcSxrDiuSMM1"
      },
      "source": [
        "\n",
        "model = load_model('/content/drive/MyDrive/Dataset_Sample')"
      ],
      "execution_count": null,
      "outputs": []
    },
    {
      "cell_type": "code",
      "metadata": {
        "colab": {
          "base_uri": "https://localhost:8080/",
          "height": 285
        },
        "id": "YXV6IZuES6sq",
        "outputId": "8cd4c32f-cee4-4418-8942-8f3d7467fcc8"
      },
      "source": [
        "test_image = image.load_img('/content/drive/MyDrive/Dataset_Sample/training/sha/28227.png')\n",
        "plt.imshow(test_image)\n",
        "test_image = image.img_to_array(test_image)\n",
        "test_image = np.expand_dims(test_image,axis=0)\n",
        "test_image = preprocess_input(test_image)\n",
        "result = model.predict(test_image)\n",
        "\n",
        "predicted_class = np.argmax(result)\n",
        "\n",
        "\n",
        "if predicted_class == 0:\n",
        "  print('Gujarati character is:૬')\n",
        "if predicted_class == 1:\n",
        "    print(\"Gujarati character is:૧\")\n",
        "if predicted_class == 2:\n",
        "  print(\"Gujarati character is:ક\")\n",
        "if predicted_class == 3:\n",
        "    print(\"Gujarati character is:ઔ\")\n",
        "if predicted_class == 4:\n",
        "    print(\"Gujarati character is:શે\")\n",
        "if predicted_class == 5:\n",
        "    print(\"Gujarati character is:ખ\")"
      ],
      "execution_count": null,
      "outputs": [
        {
          "output_type": "stream",
          "text": [
            "Gujarati character is:શે\n"
          ],
          "name": "stdout"
        },
        {
          "output_type": "display_data",
          "data": {
            "image/png": "[encoded data removed]",
            "text/plain": [
              "<Figure size 432x288 with 1 Axes>"
            ]
          },
          "metadata": {
            "tags": [],
            "needs_background": "light"
          }
        }
      ]
    },
    {
      "cell_type": "code",
      "metadata": {
        "id": "b456CSlvXrSw"
      },
      "source": [
        ""
      ],
      "execution_count": null,
      "outputs": []
    }
  ]
}